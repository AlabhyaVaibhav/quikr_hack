{
 "cells": [
  {
   "cell_type": "code",
   "execution_count": 21,
   "metadata": {},
   "outputs": [
    {
     "data": {
      "image/png": "[encoded data removed]",
      "text/plain": [
       "<Figure size 432x288 with 1 Axes>"
      ]
     },
     "metadata": {
      "needs_background": "light"
     },
     "output_type": "display_data"
    }
   ],
   "source": [
    "import numpy as np\n",
    "import matplotlib.pyplot as plt\n",
    "\n",
    "arr = [\n",
    "(0,29518),\n",
    "(1,14461),\n",
    "(2,9297),\n",
    "(3,4845),\n",
    "(4,7341),\n",
    "(5,10863),\n",
    "(6,20532),\n",
    "(7,31676),\n",
    "(8,68751),\n",
    "(9,109728),\n",
    "(10,175940),\n",
    "(11,272523),\n",
    "(12,234220),\n",
    "(13,223603),\n",
    "(14,197625),\n",
    "(15,173026),\n",
    "(16,182716),\n",
    "(17,161821),\n",
    "(18,151084),\n",
    "(19,123945),\n",
    "(20,91806),\n",
    "(21,81470),\n",
    "(22,69448),\n",
    "(23,51781)]\n",
    "\n",
    "for i in range(len(arr)):\n",
    "    arr[i] = (i, round(arr[i][1]/6),)\n",
    "#     print(round(arr[i][1]))\n",
    "# print(arr)\n",
    "\n",
    "points = np.array(arr)\n",
    "\n",
    "# print(points)\n",
    "# get x and y vectors\n",
    "x = points[:,0]\n",
    "y = points[:,1]\n",
    "\n",
    "# calculate polynomial\n",
    "z = np.polyfit(x, y, 14)\n",
    "f = np.poly1d(z) \n",
    "\n",
    "# calculate new x's and y's\n",
    "x_new = np.linspace(x[0], x[-1], 40)\n",
    "y_new = f(x_new)\n",
    "plt.plot(x,y,'o', x_new, y_new)\n",
    "plt.xlim([x[0]-1, x[-1] + 1 ])\n",
    "plt.show()"
   ]
  },
  {
   "cell_type": "markdown",
   "metadata": {},
   "source": [
    "x_new"
   ]
  },
  {
   "cell_type": "code",
   "execution_count": 92,
   "metadata": {},
   "outputs": [
    {
     "data": {
      "text/plain": [
       "poly1d([-8.47916667e-01,  2.89423805e+01, -2.84609630e+02,  1.40990960e+03,\n",
       "       -3.66465842e+03,  4.92918357e+03])"
      ]
     },
     "execution_count": 92,
     "metadata": {},
     "output_type": "execute_result"
    }
   ],
   "source": [
    "f"
   ]
  },
  {
   "cell_type": "code",
   "execution_count": 22,
   "metadata": {},
   "outputs": [
    {
     "data": {
      "text/plain": [
       "array([ 0.        ,  0.58974359,  1.17948718,  1.76923077,  2.35897436,\n",
       "        2.94871795,  3.53846154,  4.12820513,  4.71794872,  5.30769231,\n",
       "        5.8974359 ,  6.48717949,  7.07692308,  7.66666667,  8.25641026,\n",
       "        8.84615385,  9.43589744, 10.02564103, 10.61538462, 11.20512821,\n",
       "       11.79487179, 12.38461538, 12.97435897, 13.56410256, 14.15384615,\n",
       "       14.74358974, 15.33333333, 15.92307692, 16.51282051, 17.1025641 ,\n",
       "       17.69230769, 18.28205128, 18.87179487, 19.46153846, 20.05128205,\n",
       "       20.64102564, 21.23076923, 21.82051282, 22.41025641, 23.        ])"
      ]
     },
     "execution_count": 22,
     "metadata": {},
     "output_type": "execute_result"
    }
   ],
   "source": [
    "x_new"
   ]
  },
  {
   "cell_type": "code",
   "execution_count": 23,
   "metadata": {},
   "outputs": [
    {
     "data": {
      "text/plain": [
       "array([ 4921.75155291,  4416.40452144,  1911.68962595,  1514.43822499,\n",
       "        1465.38248117,  1033.95603847,   671.75910651,   887.78986778,\n",
       "        1676.65347882,  2654.27143886,  3497.19574013,  4280.93371682,\n",
       "        5518.85581   ,  7918.99043144, 12011.14563646, 17830.78587893,\n",
       "       24798.53592961, 31842.6188474 , 37715.62365873, 41388.31079987,\n",
       "       42379.71437961, 40907.52090807, 37805.01702572, 34230.57320791,\n",
       "       31268.08712763, 29559.05232112, 29103.25885247, 29311.89390931,\n",
       "       29305.16685069, 28342.71829453, 26196.83379541, 23267.68776688,\n",
       "       20329.43872278, 17991.19975483, 16209.580596  , 14364.78867313,\n",
       "       12246.92293813, 11350.26608028, 13457.53960031,  8616.8611358 ])"
      ]
     },
     "execution_count": 23,
     "metadata": {},
     "output_type": "execute_result"
    }
   ],
   "source": [
    "y_new"
   ]
  },
  {
   "cell_type": "code",
   "execution_count": 24,
   "metadata": {},
   "outputs": [
    {
     "name": "stdout",
     "output_type": "stream",
     "text": [
      "\n",
      "\n",
      "\n",
      "\n",
      "\n",
      "\n",
      "\n",
      "\n",
      "[4921, 3413, 1731, 1161, 1345, 1422, 2047, 3083, 6567, 10471, 16410, 24850, 22278, 22593, 22475, 23334, 27626, 29406, 31448, 31023, 28840, 27243, 24690, 21430]\n",
      "[4920, 2912, 1640, 984, 1284, 1616, 2734, 4181, 9012, 14380, 22866, 35135, 30658, 29930, 27706, 26086, 29040, 28188, 28314, 25840, 22070, 20410, 18132, 15030]\n",
      "[4920, 2661, 1595, 896, 1254, 1713, 3078, 4730, 10235, 16334, 26094, 40278, 34848, 33598, 30322, 27462, 29746, 27579, 26748, 23249, 18686, 16994, 14854, 11830]\n",
      "[4920, 2536, 1572, 852, 1239, 1762, 3250, 5004, 10846, 17311, 27708, 42849, 36942, 35432, 31630, 28150, 30100, 27274, 25964, 21954, 16994, 15286, 13214, 10230]\n"
     ]
    }
   ],
   "source": [
    "i = 0\n",
    "points = 0\n",
    "c = [[],[],[],[]]\n",
    "for i in range(4):\n",
    "    j = 0\n",
    "    for a in y:\n",
    "        b = round((a + y_new[j])/2)\n",
    "        j += 1\n",
    "        c[i].append(int(b))\n",
    "    print('\\n')\n",
    "    y_new = c[i]\n",
    "#     print(y_new)\n",
    "#     break\n",
    "# print(c)\n",
    "for i in c:\n",
    "    print(i)"
   ]
  },
  {
   "cell_type": "code",
   "execution_count": 25,
   "metadata": {},
   "outputs": [
    {
     "data": {
      "text/plain": [
       "array([ 4920,  2410,  1550,   808,  1224,  1810,  3422,  5279, 11458,\n",
       "       18288, 29323, 45420, 39037, 37267, 32938, 28838, 30453, 26970,\n",
       "       25181, 20658, 15301, 13578, 11575,  8630])"
      ]
     },
     "execution_count": 25,
     "metadata": {},
     "output_type": "execute_result"
    }
   ],
   "source": [
    "y\n",
    "\n"
   ]
  },
  {
   "cell_type": "code",
   "execution_count": 26,
   "metadata": {},
   "outputs": [
    {
     "data": {
      "text/plain": [
       "[4920,\n",
       " 2536,\n",
       " 1572,\n",
       " 852,\n",
       " 1239,\n",
       " 1762,\n",
       " 3250,\n",
       " 5004,\n",
       " 10846,\n",
       " 17311,\n",
       " 27708,\n",
       " 42849,\n",
       " 36942,\n",
       " 35432,\n",
       " 31630,\n",
       " 28150,\n",
       " 30100,\n",
       " 27274,\n",
       " 25964,\n",
       " 21954,\n",
       " 16994,\n",
       " 15286,\n",
       " 13214,\n",
       " 10230]"
      ]
     },
     "execution_count": 26,
     "metadata": {},
     "output_type": "execute_result"
    }
   ],
   "source": [
    "y_new"
   ]
  },
  {
   "cell_type": "code",
   "execution_count": 12,
   "metadata": {},
   "outputs": [
    {
     "name": "stdout",
     "output_type": "stream",
     "text": [
      "[ 59518  14461   9297   4845   7341  10863  20532  31676  68751 109728\n",
      " 175940]\n"
     ]
    }
   ],
   "source": []
  },
  {
   "cell_type": "code",
   "execution_count": null,
   "metadata": {},
   "outputs": [],
   "source": []
  }
 ],
 "metadata": {
  "kernelspec": {
   "display_name": "Python 3",
   "language": "python",
   "name": "python3"
  },
  "language_info": {
   "codemirror_mode": {
    "name": "ipython",
    "version": 3
   },
   "file_extension": ".py",
   "mimetype": "text/x-python",
   "name": "python",
   "nbconvert_exporter": "python",
   "pygments_lexer": "ipython3",
   "version": "3.7.1"
  }
 },
 "nbformat": 4,
 "nbformat_minor": 2
}
